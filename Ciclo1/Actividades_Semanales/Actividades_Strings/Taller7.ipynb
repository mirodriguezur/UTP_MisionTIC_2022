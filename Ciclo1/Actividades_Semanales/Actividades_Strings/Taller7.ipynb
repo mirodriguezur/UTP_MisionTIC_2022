{
 "cells": [
  {
   "cell_type": "markdown",
   "metadata": {},
   "source": [
    "# Taller 7 Strings"
   ]
  },
  {
   "cell_type": "markdown",
   "metadata": {},
   "source": [
    "## Ejercicio No. 1"
   ]
  },
  {
   "cell_type": "markdown",
   "metadata": {},
   "source": [
    "Leer un número entero de dos dígitos y determinar si ambos dígitos son pares"
   ]
  },
  {
   "cell_type": "code",
   "execution_count": 4,
   "metadata": {},
   "outputs": [
    {
     "name": "stdout",
     "output_type": "stream",
     "text": [
      "True\n"
     ]
    }
   ],
   "source": [
    "def digitosPares(numero: str):\n",
    "    a = int(numero[0])\n",
    "    b = int(numero[1])\n",
    "\n",
    "    if (a % 2 == 0) and (b % 2 == 0):\n",
    "        return True\n",
    "    else:\n",
    "        return False\n",
    "\n",
    "numero = \"24\"\n",
    "\n",
    "print(digitosPares(numero))"
   ]
  },
  {
   "cell_type": "markdown",
   "metadata": {},
   "source": [
    "## Ejercicio No. 2\n",
    "Escribir un programa que pregunte el nombre del usuario en la consola y un número entero e imprima por pantalla en líneas distintas el nombre del usuario tantas veces como el número introducido."
   ]
  },
  {
   "cell_type": "code",
   "execution_count": 9,
   "metadata": {},
   "outputs": [
    {
     "name": "stdout",
     "output_type": "stream",
     "text": [
      "michael\n",
      "michael\n",
      "michael\n",
      "\n"
     ]
    }
   ],
   "source": [
    "def imprimirNombre(nombre: str, num: int):\n",
    "    print((nombre + \"\\n\") * num)\n",
    "\n",
    "nombre = input(\"Digite un nombre: \")\n",
    "num = int(input(\"Ingrese el número que desee se imprima el nombre: \"))\n",
    "\n",
    "imprimirNombre(nombre, num)"
   ]
  },
  {
   "cell_type": "markdown",
   "metadata": {},
   "source": [
    "## Ejercicio No. 3\n",
    "Los teléfonos de una empresa tienen el siguiente formato prefijo-número-extension donde el prefijo es el código del país +57, y la extensión tiene dos dígitos (por ejemplo +57-313724710-56). Escribir un programa que pregunte por un número de teléfono con este formato y muestre por pantalla el número de teléfono sin el prefijo y sin el \"-\""
   ]
  },
  {
   "cell_type": "code",
   "execution_count": 10,
   "metadata": {},
   "outputs": [
    {
     "name": "stdout",
     "output_type": "stream",
     "text": [
      "31372471056\n"
     ]
    }
   ],
   "source": [
    "def imprimirNumero(numero: str):\n",
    "    numArray = numero.split(\"-\")\n",
    "    del numArray[0]\n",
    "    return \"\".join(numArray)\n",
    "\n",
    "numero = input(\"digite un numero telefonico: \")\n",
    "\n",
    "print(imprimirNumero(numero))\n",
    "    "
   ]
  }
 ],
 "metadata": {
  "interpreter": {
   "hash": "2c17cdae881039898e019dde816ef025ab5528b4115dbe62b08e3ff91b305481"
  },
  "kernelspec": {
   "display_name": "Python 3.9.7 ('base')",
   "language": "python",
   "name": "python3"
  },
  "language_info": {
   "codemirror_mode": {
    "name": "ipython",
    "version": 3
   },
   "file_extension": ".py",
   "mimetype": "text/x-python",
   "name": "python",
   "nbconvert_exporter": "python",
   "pygments_lexer": "ipython3",
   "version": "3.9.7"
  },
  "orig_nbformat": 4
 },
 "nbformat": 4,
 "nbformat_minor": 2
}
